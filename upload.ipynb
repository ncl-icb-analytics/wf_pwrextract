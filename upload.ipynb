{
 "cells": [
  {
   "cell_type": "code",
   "execution_count": 79,
   "metadata": {},
   "outputs": [],
   "source": [
    "#Import modules\n",
    "import pandas as pd\n",
    "\n",
    "#Import user modules\n",
    "import ncl.sqlsnippets as snips\n",
    "\n",
    "#Import env\n",
    "from os import getenv\n",
    "from dotenv import load_dotenv"
   ]
  },
  {
   "cell_type": "code",
   "execution_count": 80,
   "metadata": {},
   "outputs": [],
   "source": [
    "#Import env\n",
    "\n",
    "load_dotenv(override=True)\n",
    "\n",
    "OUTPUTDIR = getenv(\"OUTPUTDIR\")\n",
    "UPLOADPATH = getenv(\"UPLOADPATH\")\n",
    "\n",
    "UPLOADTAB = getenv(\"UPLOADTAB\")\n",
    "\n",
    "SQL_DATABASE = getenv(\"SQL_DATABASE\")\n",
    "SQL_SCHEMA = getenv(\"SQL_SCHEMA\")\n",
    "SQL_ADDRESS = getenv(\"SQL_ADDRESS\")\n",
    "\n",
    "SQL_TABLE = f\"wf_pwr_{UPLOADTAB.lower()}\""
   ]
  },
  {
   "cell_type": "code",
   "execution_count": 81,
   "metadata": {},
   "outputs": [],
   "source": [
    "#Load data\n",
    "df_data = pd.read_csv(f\"{OUTPUTDIR}{UPLOADPATH}{UPLOADTAB}.csv\")"
   ]
  },
  {
   "cell_type": "code",
   "execution_count": 82,
   "metadata": {},
   "outputs": [],
   "source": [
    "#Get years in data file\n",
    "def derrive_years(df):\n",
    "    #Return all years present in the df file (might be multiple in the case of the historic file)\n",
    "    years_arr =  df[\"fyear\"].drop_duplicates().values\n",
    "    #Add quotations to each array element as they need to be within quotations when used in the query string\n",
    "    years_arr = [\"'\" + value + \"'\" for value in years_arr]\n",
    "    return years_arr\n",
    "\n",
    "#Construct delete query to remove old data \n",
    "#(Maybe in future replace with UPDATE statement but this is easier for now)\n",
    "def build_delete_query(years):\n",
    "    query = f\"DELETE FROM {SQL_SCHEMA}.{SQL_TABLE} \"\\\n",
    "            f\"WHERE fyear IN ({', '.join(years)})\"\n",
    "    \n",
    "    return query\n",
    "\n",
    "#Delete existing data in table as we only want to overwrite some of the data\n",
    "def delete_old_pwr(engine, df):\n",
    "    years = derrive_years(df)\n",
    "\n",
    "    delete_query = build_delete_query(years)\n",
    "\n",
    "    snips.execute_query(engine, delete_query)"
   ]
  },
  {
   "cell_type": "code",
   "execution_count": 83,
   "metadata": {},
   "outputs": [],
   "source": [
    "#Connect to db\n",
    "conn_str = snips.get_connection_string(SQL_ADDRESS, SQL_DATABASE)\n",
    "\n",
    "#Create connection\n",
    "engine = snips.connect_to_sql(conn_str=conn_str)"
   ]
  },
  {
   "cell_type": "code",
   "execution_count": 84,
   "metadata": {},
   "outputs": [],
   "source": [
    "#Check if table exists\n",
    "if snips.table_exists(engine, SQL_TABLE, SQL_SCHEMA):\n",
    "    #If it exists delete old data\n",
    "    delete_old_pwr(engine, df_data)"
   ]
  },
  {
   "cell_type": "code",
   "execution_count": 85,
   "metadata": {},
   "outputs": [],
   "source": [
    "#Upload the data\n",
    "snips.upload_to_sql(df_data, engine, SQL_TABLE, SQL_SCHEMA, replace=False)"
   ]
  }
 ],
 "metadata": {
  "kernelspec": {
   "display_name": "Python 3",
   "language": "python",
   "name": "python3"
  },
  "language_info": {
   "codemirror_mode": {
    "name": "ipython",
    "version": 3
   },
   "file_extension": ".py",
   "mimetype": "text/x-python",
   "name": "python",
   "nbconvert_exporter": "python",
   "pygments_lexer": "ipython3",
   "version": "3.11.0"
  },
  "orig_nbformat": 4
 },
 "nbformat": 4,
 "nbformat_minor": 2
}
